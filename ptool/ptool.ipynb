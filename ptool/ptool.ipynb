{
 "cells": [
  {
   "cell_type": "markdown",
   "id": "dc2618c7-a0cb-4f17-8021-9a63f4568bd2",
   "metadata": {},
   "source": [
    "## Introduction\n",
    "\n",
    "`ptool` aims to provide comprehensive analysis of a pool on different sites.\n",
    "It is designed to provide the most prominent information to either clean up a pool or\n",
    "to sync the missing files from the other site for the same pool.\n",
    "In order to perform analysis, this tool requires the checksum (md5) of all\n",
    "the files in the pool at both the sites. As this operation is time consuming,\n",
    "the workflow is divided into 2 phases.\n",
    "\n",
    "The first phase is to gather the checksum of all the files as a csv file.\n",
    "The tool aids in generating the run scripts required the gather the checksum information.\n",
    "After the checksum files at different sites are created, they can be transferred to\n",
    "a single location (say local machine or either of the sites) to perform the analysis.\n",
    "\n",
    "The second phase is the analysis part. Through this analysis the aim is to understand\n",
    "the current state of the pool at both the sites and also to have actionable information\n",
    "to perform for instance a clean up or a sync operation.\n"
   ]
  },
  {
   "cell_type": "markdown",
   "id": "a2ac04bb-11f2-4348-a428-7856dad9c518",
   "metadata": {},
   "source": [
    "### Analysis part"
   ]
  },
  {
   "cell_type": "code",
   "execution_count": 1,
   "id": "7deb0f7c-3203-4d9e-b664-1ecaa5f65e1b",
   "metadata": {},
   "outputs": [],
   "source": [
    "import ptool"
   ]
  },
  {
   "cell_type": "code",
   "execution_count": 2,
   "id": "d060cc96-9363-4a38-9520-2042735e12f4",
   "metadata": {},
   "outputs": [],
   "source": [
    "levante_csv = \"checksum_fesom2_levante.csv\"\n",
    "albedo_csv = \"checksum_fesom2_albedo.csv\""
   ]
  },
  {
   "cell_type": "markdown",
   "id": "8d96c610-c55e-4f35-9905-1536a28e7437",
   "metadata": {},
   "source": [
    "First thing is to do is get an overview is a call `summary` function"
   ]
  },
  {
   "cell_type": "code",
   "execution_count": 3,
   "id": "9d0cdd43-5479-4948-b5aa-46b0e0a1ebad",
   "metadata": {},
   "outputs": [
    {
     "name": "stdout",
     "output_type": "stream",
     "text": [
      "Table 1: Summary with respect to LEVANTE site\n",
      "\n",
      "                 levante                      albedo\n",
      "---------------  ---------------------------  --------------------------\n",
      "pool             fesom2                       fesom2\n",
      "checksum file    checksum_fesom2_levante.csv  checksum_fesom2_albedo.csv\n",
      "prefix           /pool/data/AWICM/FESOM2/     /albedo/pool/FESOM2/\n",
      "files            133387 (25.4 TB)             123946 (1.1 TB)\n",
      "duplicate files  17720 (2.7 TB)               11463 (26.2 GB)\n",
      "identical files  18101 (40.8 GB)              18101 (40.8 GB)\n",
      "unique files     88196 (25.4 TB)              nan\n",
      "renamed files    nan                          9 (896.2 MB)\n",
      "modified files   nan                          27081 (314.6 MB)\n",
      "----------------------------------------------------------------------\n",
      "Table 2: Common directory mapping\n",
      "\n",
      "    rparent_levante                 rparent_albedo\n",
      "--  ------------------------------  ---------------------------\n",
      " 0  MESHES_FESOM2.1/core2           CORE2\n",
      " 1  MESHES_FESOM2.1/core2/dist_144  CORE2/dist_144\n",
      " 2  MESHES_FESOM2.1/core2/dist_288  CORE2/dist_288\n",
      " 3  MESHES_FESOM2.1/core2/dist_432  CORE2/dist_432\n",
      " 4  MESHES_FESOM2.1/core2/dist_72   CORE2/dist_72\n",
      " 5  MESHES_FESOM2.1/core2/dist_864  CORE2/dist_864\n",
      " 6  MESHES_FESOM2.1/hr              HR\n",
      " 7  MESHES/BOLD_RT_FIXED/dist_1296  HR/dist_1296\n",
      " 8  MESHES_FESOM2.1/hr/dist_1728    HR/dist_1728\n",
      " 9  MESHES/BOLD_RT_FIXED/dist_2304  HR/dist_2304\n",
      "10  MESHES/BOLD_RT_FIXED/dist_864   HR/dist_864\n",
      "11  MESHES/CORE2/dist_144           core2_meanz_broken/dist_144\n",
      "12  MESHES/CORE2/dist_288           core2_meanz_broken/dist_288\n",
      "13  MESHES/CORE2/dist_432           core2_meanz_broken/dist_432\n",
      "14  MESHES/CORE2/dist_72            core2_meanz_broken/dist_72\n",
      "15  MESHES/CORE2/figures            core2_meanz_broken/figures\n",
      "16  FORCING/CORE2                   forcing/CORE2\n",
      "17  INITIAL/phc3.0                  hydrography\n",
      "18  MESHES_FESOM2.1/mr              mr\n"
     ]
    }
   ],
   "source": [
    "ptool.summary(levante_csv, albedo_csv)"
   ]
  },
  {
   "cell_type": "markdown",
   "id": "083bec1a-49d0-48f0-940f-5372449d5e88",
   "metadata": {},
   "source": [
    "In the above overview, notice `dist_` directories were also included. This can be omitted by providing the `ignore` argument."
   ]
  },
  {
   "cell_type": "code",
   "execution_count": 4,
   "id": "018b4900-af02-4868-a89f-0800eaf4845d",
   "metadata": {},
   "outputs": [
    {
     "name": "stdout",
     "output_type": "stream",
     "text": [
      "Table 1: Summary with respect to LEVANTE site\n",
      "\n",
      "                 levante                      albedo\n",
      "---------------  ---------------------------  --------------------------\n",
      "pool             fesom2                       fesom2\n",
      "checksum file    checksum_fesom2_levante.csv  checksum_fesom2_albedo.csv\n",
      "prefix           /pool/data/AWICM/FESOM2/     /albedo/pool/FESOM2/\n",
      "files            2791 (25.4 TB)               1359 (1.0 TB)\n",
      "duplicate files  90 (896.5 GB)                218 (25.4 GB)\n",
      "identical files  472 (37.8 GB)                472 (37.8 GB)\n",
      "unique files     2299 (25.4 TB)               nan\n",
      "renamed files    nan                          9 (896.2 MB)\n",
      "modified files   nan                          6 (17.4 MB)\n",
      "----------------------------------------------------------------------\n",
      "Table 2: Common directory mapping\n",
      "\n",
      "    rparent_levante        rparent_albedo\n",
      "--  ---------------------  --------------------------\n",
      " 0  MESHES_FESOM2.1/core2  CORE2\n",
      " 1  MESHES/BOLD_RT_FIXED   HR\n",
      " 2  MESHES/CORE2/figures   core2_meanz_broken/figures\n",
      " 3  FORCING/CORE2          forcing/CORE2\n",
      " 4  INITIAL/phc3.0         hydrography\n",
      " 5  MESHES_FESOM2.1/mr     mr\n"
     ]
    }
   ],
   "source": [
    "ptool.summary(levante_csv, albedo_csv, ignore='dist_')"
   ]
  },
  {
   "cell_type": "markdown",
   "id": "0052e04d-bcb2-49fd-a1ea-bcd6fa237d8e",
   "metadata": {},
   "source": [
    "The `summary` function is comparing `fesom2` pool on `Levante` site to `fesom2` pool on `Albedo` site.\n",
    "The order of the arguments matter. The other way around yields different results."
   ]
  },
  {
   "cell_type": "code",
   "execution_count": 5,
   "id": "6db5f02c-0fb7-4692-9f28-76366252721b",
   "metadata": {},
   "outputs": [
    {
     "name": "stdout",
     "output_type": "stream",
     "text": [
      "Table 1: Summary with respect to ALBEDO site\n",
      "\n",
      "                 albedo                      levante\n",
      "---------------  --------------------------  ---------------------------\n",
      "pool             fesom2                      fesom2\n",
      "checksum file    checksum_fesom2_albedo.csv  checksum_fesom2_levante.csv\n",
      "prefix           /albedo/pool/FESOM2/        /pool/data/AWICM/FESOM2/\n",
      "files            1359 (1.0 TB)               2791 (25.4 TB)\n",
      "duplicate files  218 (25.4 GB)               90 (896.5 GB)\n",
      "identical files  474 (37.8 GB)               474 (37.8 GB)\n",
      "modified files   36 (6.9 GB)                 nan\n",
      "unique files     849 (999.3 GB)              nan\n",
      "renamed files    nan                         9 (896.2 MB)\n",
      "----------------------------------------------------------------------\n",
      "Table 2: Common directory mapping\n",
      "\n",
      "    rparent_albedo              rparent_levante\n",
      "--  --------------------------  ---------------------\n",
      " 0  forcing/CORE2               FORCING/CORE2\n",
      " 1  hydrography                 INITIAL/phc3.0\n",
      " 2  HR                          MESHES/BOLD_RT_FIXED\n",
      " 3  core2_meanz_broken          MESHES/CORE2\n",
      " 4  core2_meanz_broken/figures  MESHES/CORE2/figures\n",
      " 5  CORE2                       MESHES_FESOM2.1/core2\n",
      " 6  mr                          MESHES_FESOM2.1/mr\n"
     ]
    }
   ],
   "source": [
    "ptool.summary(albedo_csv, levante_csv, ignore='dist_')"
   ]
  },
  {
   "cell_type": "markdown",
   "id": "eda3df07-c920-4651-8d09-157eb9f81dde",
   "metadata": {},
   "source": [
    "The important information from this summary is as follows:\n",
    "In Table 1, the `modified files` are important to consider as they get over-written in a (directory level) sync operation if these files are not omitted. In the case of `renamed files`, they end up as duplicate files in a similar (directory level) sync operation if they are not considered.\n",
    "\n",
    "Table 2 shows the directory mapping of folders which have some associated due to either matching identical files or modified files or renamed files. The `rparent` in the header is the relative parent path to a file. Also notice that Table 2 always shows one-to-one mapping of the associated folders but in reality, it is possible to have one-to-many or many-to-one folder associations. In this case, the tool chooses the associated folders which has the maximum counts of associations (number of identical files, renamed files, modified files).\n",
    "\n",
    "The next to do is to get the associated files."
   ]
  },
  {
   "cell_type": "code",
   "execution_count": 6,
   "id": "0c37a13b-191d-4051-896a-d8e52cc50197",
   "metadata": {},
   "outputs": [],
   "source": [
    "df_levante, df_levante_duplicates = ptool.read_csv(levante_csv, ignore='dist_')\n",
    "df_albedo, df_albedo_duplicates = ptool.read_csv(albedo_csv, ignore='dist_')"
   ]
  },
  {
   "cell_type": "markdown",
   "id": "ec7e2c01-611e-40c8-be36-2aac64ed34f4",
   "metadata": {},
   "source": [
    "keep in mind that the order of arguments matter."
   ]
  },
  {
   "cell_type": "code",
   "execution_count": 7,
   "id": "1e802bf1-2dcf-4bf5-8fa9-4923d51d1863",
   "metadata": {},
   "outputs": [
    {
     "data": {
      "text/html": [
       "<div>\n",
       "<style scoped>\n",
       "    .dataframe tbody tr th:only-of-type {\n",
       "        vertical-align: middle;\n",
       "    }\n",
       "\n",
       "    .dataframe tbody tr th {\n",
       "        vertical-align: top;\n",
       "    }\n",
       "\n",
       "    .dataframe thead th {\n",
       "        text-align: right;\n",
       "    }\n",
       "</style>\n",
       "<table border=\"1\" class=\"dataframe\">\n",
       "  <thead>\n",
       "    <tr style=\"text-align: right;\">\n",
       "      <th></th>\n",
       "      <th>rpath_left</th>\n",
       "      <th>rpath_right</th>\n",
       "    </tr>\n",
       "    <tr>\n",
       "      <th>flag</th>\n",
       "      <th></th>\n",
       "      <th></th>\n",
       "    </tr>\n",
       "  </thead>\n",
       "  <tbody>\n",
       "    <tr>\n",
       "      <th>identical</th>\n",
       "      <td>MESHES_FESOM2.1/core2/fesom.mesh.diag.nc</td>\n",
       "      <td>CORE2/fesom.mesh.diag.nc</td>\n",
       "    </tr>\n",
       "    <tr>\n",
       "      <th>identical</th>\n",
       "      <td>MESHES_FESOM2.1/core2/core2_griddes_elements.nc</td>\n",
       "      <td>CORE2/core2_griddes_elements.nc</td>\n",
       "    </tr>\n",
       "    <tr>\n",
       "      <th>identical</th>\n",
       "      <td>MESHES_FESOM2.1/core2/core2_griddes_nodes.nc</td>\n",
       "      <td>CORE2/core2_griddes_nodes.nc</td>\n",
       "    </tr>\n",
       "    <tr>\n",
       "      <th>identical</th>\n",
       "      <td>MESHES_FESOM2.1/core2/distances_126858_-180.0_...</td>\n",
       "      <td>CORE2/distances_126858_-180.0_180.0_60.0_90.0_...</td>\n",
       "    </tr>\n",
       "    <tr>\n",
       "      <th>identical</th>\n",
       "      <td>MESHES_FESOM2.1/core2/nod2d.out</td>\n",
       "      <td>CORE2/nod2d.out</td>\n",
       "    </tr>\n",
       "  </tbody>\n",
       "</table>\n",
       "</div>"
      ],
      "text/plain": [
       "                                                  rpath_left  \\\n",
       "flag                                                           \n",
       "identical           MESHES_FESOM2.1/core2/fesom.mesh.diag.nc   \n",
       "identical    MESHES_FESOM2.1/core2/core2_griddes_elements.nc   \n",
       "identical       MESHES_FESOM2.1/core2/core2_griddes_nodes.nc   \n",
       "identical  MESHES_FESOM2.1/core2/distances_126858_-180.0_...   \n",
       "identical                    MESHES_FESOM2.1/core2/nod2d.out   \n",
       "\n",
       "                                                 rpath_right  \n",
       "flag                                                          \n",
       "identical                           CORE2/fesom.mesh.diag.nc  \n",
       "identical                    CORE2/core2_griddes_elements.nc  \n",
       "identical                       CORE2/core2_griddes_nodes.nc  \n",
       "identical  CORE2/distances_126858_-180.0_180.0_60.0_90.0_...  \n",
       "identical                                    CORE2/nod2d.out  "
      ]
     },
     "execution_count": 7,
     "metadata": {},
     "output_type": "execute_result"
    }
   ],
   "source": [
    "cmp_LA = ptool.compare_compact(df_levante, df_albedo)\n",
    "cmp_LA.head()"
   ]
  },
  {
   "cell_type": "markdown",
   "id": "7285ebbf-0e20-421b-a166-6161163de1fe",
   "metadata": {},
   "source": [
    "In the above data-frame, `rpath` stands for `relative path` to the file. The `flag` in the index column has association names. "
   ]
  },
  {
   "cell_type": "code",
   "execution_count": 8,
   "id": "97fbf82a-b352-445a-a110-1af58b415a37",
   "metadata": {},
   "outputs": [
    {
     "data": {
      "text/plain": [
       "Index(['identical', 'renamed', 'modified_latest_right', 'unique'], dtype='object', name='flag')"
      ]
     },
     "execution_count": 8,
     "metadata": {},
     "output_type": "execute_result"
    }
   ],
   "source": [
    "cmp_LA.index.unique()"
   ]
  },
  {
   "cell_type": "markdown",
   "id": "faf7001c-28f7-4b44-bc0d-43c394e1acb9",
   "metadata": {},
   "source": [
    "`modified_latest_right` means that the most recent version of the file (w.r.t timestamp) is in the right column. Modified files are the files which have the same file name on both the sites but their checksum do not match."
   ]
  },
  {
   "cell_type": "code",
   "execution_count": 9,
   "id": "6353c466-a762-48b5-adc9-db089e10dfc7",
   "metadata": {},
   "outputs": [
    {
     "data": {
      "text/html": [
       "<div>\n",
       "<style scoped>\n",
       "    .dataframe tbody tr th:only-of-type {\n",
       "        vertical-align: middle;\n",
       "    }\n",
       "\n",
       "    .dataframe tbody tr th {\n",
       "        vertical-align: top;\n",
       "    }\n",
       "\n",
       "    .dataframe thead th {\n",
       "        text-align: right;\n",
       "    }\n",
       "</style>\n",
       "<table border=\"1\" class=\"dataframe\">\n",
       "  <thead>\n",
       "    <tr style=\"text-align: right;\">\n",
       "      <th></th>\n",
       "      <th>rpath_left</th>\n",
       "      <th>rpath_right</th>\n",
       "    </tr>\n",
       "    <tr>\n",
       "      <th>flag</th>\n",
       "      <th></th>\n",
       "      <th></th>\n",
       "    </tr>\n",
       "  </thead>\n",
       "  <tbody>\n",
       "    <tr>\n",
       "      <th>modified_latest_right</th>\n",
       "      <td>MESHES_FESOM2.1/core2/pickle_mesh_py3_fesom2</td>\n",
       "      <td>CORE2/pickle_mesh_py3_fesom2</td>\n",
       "    </tr>\n",
       "    <tr>\n",
       "      <th>modified_latest_right</th>\n",
       "      <td>MESHES_FESOM2.1/core2/distances_126858_-180.0_...</td>\n",
       "      <td>CORE2/distances_126858_-180.0_180.0_-80.0_90.0...</td>\n",
       "    </tr>\n",
       "    <tr>\n",
       "      <th>modified_latest_right</th>\n",
       "      <td>MESHES_FESOM2.1/core2/inds_126858_-180.0_180.0...</td>\n",
       "      <td>CORE2/inds_126858_-180.0_180.0_-80.0_90.0_360_...</td>\n",
       "    </tr>\n",
       "    <tr>\n",
       "      <th>modified_latest_right</th>\n",
       "      <td>MESHES_FESOM2.1/core2/distances_126858_-180.0_...</td>\n",
       "      <td>CORE2/distances_126858_-180.0_180.0_-90.0_90.0...</td>\n",
       "    </tr>\n",
       "    <tr>\n",
       "      <th>modified_latest_right</th>\n",
       "      <td>MESHES_FESOM2.1/core2/inds_126858_-180.0_180.0...</td>\n",
       "      <td>CORE2/inds_126858_-180.0_180.0_-90.0_90.0_360_...</td>\n",
       "    </tr>\n",
       "    <tr>\n",
       "      <th>modified_latest_right</th>\n",
       "      <td>MESHES_FESOM2.1/core2/distances_126858_-180.0_...</td>\n",
       "      <td>CORE2/distances_126858_-180.0_180.0_-89.0_90.0...</td>\n",
       "    </tr>\n",
       "  </tbody>\n",
       "</table>\n",
       "</div>"
      ],
      "text/plain": [
       "                                                              rpath_left  \\\n",
       "flag                                                                       \n",
       "modified_latest_right       MESHES_FESOM2.1/core2/pickle_mesh_py3_fesom2   \n",
       "modified_latest_right  MESHES_FESOM2.1/core2/distances_126858_-180.0_...   \n",
       "modified_latest_right  MESHES_FESOM2.1/core2/inds_126858_-180.0_180.0...   \n",
       "modified_latest_right  MESHES_FESOM2.1/core2/distances_126858_-180.0_...   \n",
       "modified_latest_right  MESHES_FESOM2.1/core2/inds_126858_-180.0_180.0...   \n",
       "modified_latest_right  MESHES_FESOM2.1/core2/distances_126858_-180.0_...   \n",
       "\n",
       "                                                             rpath_right  \n",
       "flag                                                                      \n",
       "modified_latest_right                       CORE2/pickle_mesh_py3_fesom2  \n",
       "modified_latest_right  CORE2/distances_126858_-180.0_180.0_-80.0_90.0...  \n",
       "modified_latest_right  CORE2/inds_126858_-180.0_180.0_-80.0_90.0_360_...  \n",
       "modified_latest_right  CORE2/distances_126858_-180.0_180.0_-90.0_90.0...  \n",
       "modified_latest_right  CORE2/inds_126858_-180.0_180.0_-90.0_90.0_360_...  \n",
       "modified_latest_right  CORE2/distances_126858_-180.0_180.0_-89.0_90.0...  "
      ]
     },
     "execution_count": 9,
     "metadata": {},
     "output_type": "execute_result"
    }
   ],
   "source": [
    "cmp_LA.loc['modified_latest_right']"
   ]
  },
  {
   "cell_type": "markdown",
   "id": "c8119850-ac90-48d5-a8e4-875ecde497bd",
   "metadata": {},
   "source": [
    "Some terminology\n",
    "\n",
    "- `identical`: both checksum and filename match\n",
    "- `renamed`: checksum match but not the filename\n",
    "- `modified`: filename match but not checksum\n",
    "- `unique`: files that are site specific (i.e., not available on other site)\n",
    "\n",
    "- `rpath`: relative path to file\n",
    "- `rparent`: relative parent path to file\n",
    "- `fpath`: full path to file\n",
    "- `fname`: only the filename"
   ]
  },
  {
   "cell_type": "markdown",
   "id": "f491ec7c-a6c2-45c4-a5ce-ad4aef870781",
   "metadata": {},
   "source": [
    "Getting the list of `renamed` files"
   ]
  },
  {
   "cell_type": "code",
   "execution_count": 10,
   "id": "c22f5e6e-0cbe-4755-a4d9-0ebe60225f6a",
   "metadata": {},
   "outputs": [
    {
     "data": {
      "text/html": [
       "<div>\n",
       "<style scoped>\n",
       "    .dataframe tbody tr th:only-of-type {\n",
       "        vertical-align: middle;\n",
       "    }\n",
       "\n",
       "    .dataframe tbody tr th {\n",
       "        vertical-align: top;\n",
       "    }\n",
       "\n",
       "    .dataframe thead th {\n",
       "        text-align: right;\n",
       "    }\n",
       "</style>\n",
       "<table border=\"1\" class=\"dataframe\">\n",
       "  <thead>\n",
       "    <tr style=\"text-align: right;\">\n",
       "      <th></th>\n",
       "      <th>rpath_left</th>\n",
       "      <th>rpath_right</th>\n",
       "    </tr>\n",
       "    <tr>\n",
       "      <th>flag</th>\n",
       "      <th></th>\n",
       "      <th></th>\n",
       "    </tr>\n",
       "  </thead>\n",
       "  <tbody>\n",
       "    <tr>\n",
       "      <th>renamed</th>\n",
       "      <td>FORCING/CORE2/t_10.2008.nc.bak</td>\n",
       "      <td>forcing/CORE2/t_10.2007.nc</td>\n",
       "    </tr>\n",
       "    <tr>\n",
       "      <th>renamed</th>\n",
       "      <td>FORCING/CORE2/u_10.2009.nc</td>\n",
       "      <td>forcing/CORE2/u_10.2009.23OCT2012.nc</td>\n",
       "    </tr>\n",
       "    <tr>\n",
       "      <th>renamed</th>\n",
       "      <td>FORCING/CORE2/u_10.2008.nc.bak</td>\n",
       "      <td>forcing/CORE2/u_10.2007.nc</td>\n",
       "    </tr>\n",
       "    <tr>\n",
       "      <th>renamed</th>\n",
       "      <td>FORCING/CORE2/ncar_rad.2009.nc</td>\n",
       "      <td>forcing/CORE2/ncar_rad.2009.23OCT2012.nc</td>\n",
       "    </tr>\n",
       "    <tr>\n",
       "      <th>renamed</th>\n",
       "      <td>FORCING/CORE2/q_10.2008.nc.bak</td>\n",
       "      <td>forcing/CORE2/q_10.2007.nc</td>\n",
       "    </tr>\n",
       "    <tr>\n",
       "      <th>renamed</th>\n",
       "      <td>FORCING/CORE2/slp.2008.nc</td>\n",
       "      <td>forcing/CORE2/slp.2008.23OCT2012.nc</td>\n",
       "    </tr>\n",
       "    <tr>\n",
       "      <th>renamed</th>\n",
       "      <td>FORCING/CORE2/u_10.2008_ori.nc</td>\n",
       "      <td>forcing/CORE2/u_10.2008.23OCT2012.nc</td>\n",
       "    </tr>\n",
       "    <tr>\n",
       "      <th>renamed</th>\n",
       "      <td>FORCING/CORE2/q_10.2009.nc</td>\n",
       "      <td>forcing/CORE2/q_10.2009.23OCT2012.nc</td>\n",
       "    </tr>\n",
       "    <tr>\n",
       "      <th>renamed</th>\n",
       "      <td>FORCING/CORE2/t_10.2008_ori.nc</td>\n",
       "      <td>forcing/CORE2/t_10.2008.23OCT2012.nc</td>\n",
       "    </tr>\n",
       "  </tbody>\n",
       "</table>\n",
       "</div>"
      ],
      "text/plain": [
       "                             rpath_left  \\\n",
       "flag                                      \n",
       "renamed  FORCING/CORE2/t_10.2008.nc.bak   \n",
       "renamed      FORCING/CORE2/u_10.2009.nc   \n",
       "renamed  FORCING/CORE2/u_10.2008.nc.bak   \n",
       "renamed  FORCING/CORE2/ncar_rad.2009.nc   \n",
       "renamed  FORCING/CORE2/q_10.2008.nc.bak   \n",
       "renamed       FORCING/CORE2/slp.2008.nc   \n",
       "renamed  FORCING/CORE2/u_10.2008_ori.nc   \n",
       "renamed      FORCING/CORE2/q_10.2009.nc   \n",
       "renamed  FORCING/CORE2/t_10.2008_ori.nc   \n",
       "\n",
       "                                      rpath_right  \n",
       "flag                                               \n",
       "renamed                forcing/CORE2/t_10.2007.nc  \n",
       "renamed      forcing/CORE2/u_10.2009.23OCT2012.nc  \n",
       "renamed                forcing/CORE2/u_10.2007.nc  \n",
       "renamed  forcing/CORE2/ncar_rad.2009.23OCT2012.nc  \n",
       "renamed                forcing/CORE2/q_10.2007.nc  \n",
       "renamed       forcing/CORE2/slp.2008.23OCT2012.nc  \n",
       "renamed      forcing/CORE2/u_10.2008.23OCT2012.nc  \n",
       "renamed      forcing/CORE2/q_10.2009.23OCT2012.nc  \n",
       "renamed      forcing/CORE2/t_10.2008.23OCT2012.nc  "
      ]
     },
     "execution_count": 10,
     "metadata": {},
     "output_type": "execute_result"
    }
   ],
   "source": [
    "cmp_LA.loc['renamed']"
   ]
  },
  {
   "cell_type": "markdown",
   "id": "0c1ae9c0-8c70-4fa8-9843-b317b4080315",
   "metadata": {},
   "source": [
    "Instead of `rpath_left` and `rpath_right`, it is also possible to have site names replaced as a suffix."
   ]
  },
  {
   "cell_type": "code",
   "execution_count": 11,
   "id": "f46a76cb-fde3-4d31-9b57-46babf670436",
   "metadata": {},
   "outputs": [],
   "source": [
    "cmp_LA = ptool.compare_compact(df_levante, df_albedo, relabel=True)"
   ]
  },
  {
   "cell_type": "code",
   "execution_count": 12,
   "id": "ad16e7fb-545e-4927-b542-107bc7025d27",
   "metadata": {},
   "outputs": [
    {
     "data": {
      "text/html": [
       "<div>\n",
       "<style scoped>\n",
       "    .dataframe tbody tr th:only-of-type {\n",
       "        vertical-align: middle;\n",
       "    }\n",
       "\n",
       "    .dataframe tbody tr th {\n",
       "        vertical-align: top;\n",
       "    }\n",
       "\n",
       "    .dataframe thead th {\n",
       "        text-align: right;\n",
       "    }\n",
       "</style>\n",
       "<table border=\"1\" class=\"dataframe\">\n",
       "  <thead>\n",
       "    <tr style=\"text-align: right;\">\n",
       "      <th></th>\n",
       "      <th>rpath_levante</th>\n",
       "      <th>rpath_albedo</th>\n",
       "    </tr>\n",
       "    <tr>\n",
       "      <th>flag</th>\n",
       "      <th></th>\n",
       "      <th></th>\n",
       "    </tr>\n",
       "  </thead>\n",
       "  <tbody>\n",
       "    <tr>\n",
       "      <th>renamed</th>\n",
       "      <td>FORCING/CORE2/t_10.2008.nc.bak</td>\n",
       "      <td>forcing/CORE2/t_10.2007.nc</td>\n",
       "    </tr>\n",
       "    <tr>\n",
       "      <th>renamed</th>\n",
       "      <td>FORCING/CORE2/u_10.2009.nc</td>\n",
       "      <td>forcing/CORE2/u_10.2009.23OCT2012.nc</td>\n",
       "    </tr>\n",
       "    <tr>\n",
       "      <th>renamed</th>\n",
       "      <td>FORCING/CORE2/u_10.2008.nc.bak</td>\n",
       "      <td>forcing/CORE2/u_10.2007.nc</td>\n",
       "    </tr>\n",
       "    <tr>\n",
       "      <th>renamed</th>\n",
       "      <td>FORCING/CORE2/ncar_rad.2009.nc</td>\n",
       "      <td>forcing/CORE2/ncar_rad.2009.23OCT2012.nc</td>\n",
       "    </tr>\n",
       "    <tr>\n",
       "      <th>renamed</th>\n",
       "      <td>FORCING/CORE2/q_10.2008.nc.bak</td>\n",
       "      <td>forcing/CORE2/q_10.2007.nc</td>\n",
       "    </tr>\n",
       "    <tr>\n",
       "      <th>renamed</th>\n",
       "      <td>FORCING/CORE2/slp.2008.nc</td>\n",
       "      <td>forcing/CORE2/slp.2008.23OCT2012.nc</td>\n",
       "    </tr>\n",
       "    <tr>\n",
       "      <th>renamed</th>\n",
       "      <td>FORCING/CORE2/u_10.2008_ori.nc</td>\n",
       "      <td>forcing/CORE2/u_10.2008.23OCT2012.nc</td>\n",
       "    </tr>\n",
       "    <tr>\n",
       "      <th>renamed</th>\n",
       "      <td>FORCING/CORE2/q_10.2009.nc</td>\n",
       "      <td>forcing/CORE2/q_10.2009.23OCT2012.nc</td>\n",
       "    </tr>\n",
       "    <tr>\n",
       "      <th>renamed</th>\n",
       "      <td>FORCING/CORE2/t_10.2008_ori.nc</td>\n",
       "      <td>forcing/CORE2/t_10.2008.23OCT2012.nc</td>\n",
       "    </tr>\n",
       "  </tbody>\n",
       "</table>\n",
       "</div>"
      ],
      "text/plain": [
       "                          rpath_levante  \\\n",
       "flag                                      \n",
       "renamed  FORCING/CORE2/t_10.2008.nc.bak   \n",
       "renamed      FORCING/CORE2/u_10.2009.nc   \n",
       "renamed  FORCING/CORE2/u_10.2008.nc.bak   \n",
       "renamed  FORCING/CORE2/ncar_rad.2009.nc   \n",
       "renamed  FORCING/CORE2/q_10.2008.nc.bak   \n",
       "renamed       FORCING/CORE2/slp.2008.nc   \n",
       "renamed  FORCING/CORE2/u_10.2008_ori.nc   \n",
       "renamed      FORCING/CORE2/q_10.2009.nc   \n",
       "renamed  FORCING/CORE2/t_10.2008_ori.nc   \n",
       "\n",
       "                                     rpath_albedo  \n",
       "flag                                               \n",
       "renamed                forcing/CORE2/t_10.2007.nc  \n",
       "renamed      forcing/CORE2/u_10.2009.23OCT2012.nc  \n",
       "renamed                forcing/CORE2/u_10.2007.nc  \n",
       "renamed  forcing/CORE2/ncar_rad.2009.23OCT2012.nc  \n",
       "renamed                forcing/CORE2/q_10.2007.nc  \n",
       "renamed       forcing/CORE2/slp.2008.23OCT2012.nc  \n",
       "renamed      forcing/CORE2/u_10.2008.23OCT2012.nc  \n",
       "renamed      forcing/CORE2/q_10.2009.23OCT2012.nc  \n",
       "renamed      forcing/CORE2/t_10.2008.23OCT2012.nc  "
      ]
     },
     "execution_count": 12,
     "metadata": {},
     "output_type": "execute_result"
    }
   ],
   "source": [
    "cmp_LA.loc['renamed']"
   ]
  },
  {
   "cell_type": "markdown",
   "id": "e65a76a1-b6fe-470e-8826-24921562bbba",
   "metadata": {},
   "source": [
    "It is also possible to get the full path instead of relative path"
   ]
  },
  {
   "cell_type": "code",
   "execution_count": 13,
   "id": "09dc44ca-c08b-4b27-ac02-6abead6d85e3",
   "metadata": {},
   "outputs": [],
   "source": [
    "cmp_LA = ptool.compare_compact(df_levante, df_albedo, columns='fpath', relabel=True)"
   ]
  },
  {
   "cell_type": "code",
   "execution_count": 14,
   "id": "392534ec-374b-49d1-b315-3c16ba67bcf0",
   "metadata": {},
   "outputs": [
    {
     "data": {
      "text/html": [
       "<div>\n",
       "<style scoped>\n",
       "    .dataframe tbody tr th:only-of-type {\n",
       "        vertical-align: middle;\n",
       "    }\n",
       "\n",
       "    .dataframe tbody tr th {\n",
       "        vertical-align: top;\n",
       "    }\n",
       "\n",
       "    .dataframe thead th {\n",
       "        text-align: right;\n",
       "    }\n",
       "</style>\n",
       "<table border=\"1\" class=\"dataframe\">\n",
       "  <thead>\n",
       "    <tr style=\"text-align: right;\">\n",
       "      <th></th>\n",
       "      <th>fpath_levante</th>\n",
       "      <th>fpath_albedo</th>\n",
       "    </tr>\n",
       "    <tr>\n",
       "      <th>flag</th>\n",
       "      <th></th>\n",
       "      <th></th>\n",
       "    </tr>\n",
       "  </thead>\n",
       "  <tbody>\n",
       "    <tr>\n",
       "      <th>identical</th>\n",
       "      <td>/pool/data/AWICM/FESOM2/MESHES_FESOM2.1/core2/...</td>\n",
       "      <td>/albedo/pool/FESOM2/CORE2/fesom.mesh.diag.nc</td>\n",
       "    </tr>\n",
       "    <tr>\n",
       "      <th>identical</th>\n",
       "      <td>/pool/data/AWICM/FESOM2/MESHES_FESOM2.1/core2/...</td>\n",
       "      <td>/albedo/pool/FESOM2/CORE2/core2_griddes_elemen...</td>\n",
       "    </tr>\n",
       "    <tr>\n",
       "      <th>identical</th>\n",
       "      <td>/pool/data/AWICM/FESOM2/MESHES_FESOM2.1/core2/...</td>\n",
       "      <td>/albedo/pool/FESOM2/CORE2/core2_griddes_nodes.nc</td>\n",
       "    </tr>\n",
       "    <tr>\n",
       "      <th>identical</th>\n",
       "      <td>/pool/data/AWICM/FESOM2/MESHES_FESOM2.1/core2/...</td>\n",
       "      <td>/albedo/pool/FESOM2/CORE2/distances_126858_-18...</td>\n",
       "    </tr>\n",
       "    <tr>\n",
       "      <th>identical</th>\n",
       "      <td>/pool/data/AWICM/FESOM2/MESHES_FESOM2.1/core2/...</td>\n",
       "      <td>/albedo/pool/FESOM2/CORE2/nod2d.out</td>\n",
       "    </tr>\n",
       "  </tbody>\n",
       "</table>\n",
       "</div>"
      ],
      "text/plain": [
       "                                               fpath_levante  \\\n",
       "flag                                                           \n",
       "identical  /pool/data/AWICM/FESOM2/MESHES_FESOM2.1/core2/...   \n",
       "identical  /pool/data/AWICM/FESOM2/MESHES_FESOM2.1/core2/...   \n",
       "identical  /pool/data/AWICM/FESOM2/MESHES_FESOM2.1/core2/...   \n",
       "identical  /pool/data/AWICM/FESOM2/MESHES_FESOM2.1/core2/...   \n",
       "identical  /pool/data/AWICM/FESOM2/MESHES_FESOM2.1/core2/...   \n",
       "\n",
       "                                                fpath_albedo  \n",
       "flag                                                          \n",
       "identical       /albedo/pool/FESOM2/CORE2/fesom.mesh.diag.nc  \n",
       "identical  /albedo/pool/FESOM2/CORE2/core2_griddes_elemen...  \n",
       "identical   /albedo/pool/FESOM2/CORE2/core2_griddes_nodes.nc  \n",
       "identical  /albedo/pool/FESOM2/CORE2/distances_126858_-18...  \n",
       "identical                /albedo/pool/FESOM2/CORE2/nod2d.out  "
      ]
     },
     "execution_count": 14,
     "metadata": {},
     "output_type": "execute_result"
    }
   ],
   "source": [
    "cmp_LA.head()"
   ]
  },
  {
   "cell_type": "markdown",
   "id": "4b822087-3024-43a1-a741-123bc17be852",
   "metadata": {},
   "source": [
    "Things covered so far are also available from the command line interface (cli)"
   ]
  },
  {
   "cell_type": "markdown",
   "id": "366ddb8d-6c0e-481e-95e1-1de3b692e135",
   "metadata": {},
   "source": [
    "### Command line interface"
   ]
  },
  {
   "cell_type": "code",
   "execution_count": 15,
   "id": "371407b0-c36d-4af2-b8b0-c042c48337c1",
   "metadata": {},
   "outputs": [
    {
     "name": "stdout",
     "output_type": "stream",
     "text": [
      "Usage: ptool [OPTIONS] COMMAND [ARGS]...\n",
      "\n",
      "Options:\n",
      "  --help  Show this message and exit.\n",
      "\n",
      "Commands:\n",
      "  compare    Compare csv files containing checksum to infer the status of...\n",
      "  config     shows config information for a given site\n",
      "  runscript  makes run script for job submission\n",
      "  summary    Prints a short summary by analysing csv files.\n"
     ]
    }
   ],
   "source": [
    "! ptool --help"
   ]
  },
  {
   "cell_type": "code",
   "execution_count": 16,
   "id": "8695aaa6-9d93-4bc0-9d08-84e425d1e62d",
   "metadata": {},
   "outputs": [
    {
     "name": "stdout",
     "output_type": "stream",
     "text": [
      "Usage: ptool summary [OPTIONS] LEFT RIGHT\n",
      "\n",
      "  Prints a short summary by analysing csv files.\n",
      "\n",
      "  LEFT: csv file containing checksums of all files in the pool for a given\n",
      "  project and HPC site.\n",
      "\n",
      "  RIGHT: similar file as LEFT but from different HPC site for the same\n",
      "  project.\n",
      "\n",
      "Options:\n",
      "  --ignore TEXT  ignores directory and files\n",
      "  --help         Show this message and exit.\n"
     ]
    }
   ],
   "source": [
    "! ptool summary --help"
   ]
  },
  {
   "cell_type": "code",
   "execution_count": 17,
   "id": "be94cd14-7e33-4b0a-a588-e52f1a5f5351",
   "metadata": {},
   "outputs": [
    {
     "name": "stdout",
     "output_type": "stream",
     "text": [
      "Table 1: Summary with respect to LEVANTE site\n",
      "\n",
      "                 levante                      albedo\n",
      "---------------  ---------------------------  --------------------------\n",
      "pool             fesom2                       fesom2\n",
      "checksum file    checksum_fesom2_levante.csv  checksum_fesom2_albedo.csv\n",
      "prefix           /pool/data/AWICM/FESOM2/     /albedo/pool/FESOM2/\n",
      "files            2791 (25.4 TB)               1359 (1.0 TB)\n",
      "duplicate files  90 (896.5 GB)                218 (25.4 GB)\n",
      "identical files  472 (37.8 GB)                472 (37.8 GB)\n",
      "unique files     2299 (25.4 TB)               nan\n",
      "renamed files    nan                          9 (896.2 MB)\n",
      "modified files   nan                          6 (17.4 MB)\n",
      "----------------------------------------------------------------------\n",
      "Table 2: Common directory mapping\n",
      "\n",
      "    rparent_levante        rparent_albedo\n",
      "--  ---------------------  --------------------------\n",
      " 0  MESHES_FESOM2.1/core2  CORE2\n",
      " 1  MESHES/BOLD_RT_FIXED   HR\n",
      " 2  MESHES/CORE2/figures   core2_meanz_broken/figures\n",
      " 3  FORCING/CORE2          forcing/CORE2\n",
      " 4  INITIAL/phc3.0         hydrography\n",
      " 5  MESHES_FESOM2.1/mr     mr\n"
     ]
    }
   ],
   "source": [
    "! ptool summary --ignore dist_ checksum_fesom2_levante.csv checksum_fesom2_albedo.csv"
   ]
  },
  {
   "cell_type": "code",
   "execution_count": 18,
   "id": "976d9552-95d2-417a-bd67-7017c35614de",
   "metadata": {},
   "outputs": [
    {
     "name": "stdout",
     "output_type": "stream",
     "text": [
      "Usage: ptool compare [OPTIONS] LEFT RIGHT\n",
      "\n",
      "  Compare csv files containing checksum to infer the status of data in these\n",
      "  data pools. The results include, synced files at both HPC sites. unsynced\n",
      "  files. directory mapping of synced files. filename mis-matches.\n",
      "\n",
      "  LEFT: csv file containing checksums of all files in the pool for a given\n",
      "  project and HPC site.\n",
      "\n",
      "  RIGHT: similar file as LEFT but from different HPC site for the same\n",
      "  project.\n",
      "\n",
      "Options:\n",
      "  -o, --outfile FILENAME  csv file to write results\n",
      "  --fullpath              displays full path instead of relative path\n",
      "  --ignore TEXT           ignores directory and files\n",
      "  --help                  Show this message and exit.\n"
     ]
    }
   ],
   "source": [
    "! ptool compare --help"
   ]
  },
  {
   "cell_type": "code",
   "execution_count": 19,
   "id": "501ae626-70ad-4290-aa34-2a0ec9275e01",
   "metadata": {},
   "outputs": [
    {
     "name": "stdout",
     "output_type": "stream",
     "text": [
      "Writing results as csv to file LA.csv\n",
      "                                               fpath_levante                                       fpath_albedo\n",
      "flag                                                                                                           \n",
      "identical  /pool/data/AWICM/FESOM2/MESHES_FESOM2.1/core2/...       /albedo/pool/FESOM2/CORE2/fesom.mesh.diag.nc\n",
      "identical  /pool/data/AWICM/FESOM2/MESHES_FESOM2.1/core2/...  /albedo/pool/FESOM2/CORE2/core2_griddes_elemen...\n",
      "identical  /pool/data/AWICM/FESOM2/MESHES_FESOM2.1/core2/...   /albedo/pool/FESOM2/CORE2/core2_griddes_nodes.nc\n",
      "identical  /pool/data/AWICM/FESOM2/MESHES_FESOM2.1/core2/...  /albedo/pool/FESOM2/CORE2/distances_126858_-18...\n",
      "identical  /pool/data/AWICM/FESOM2/MESHES_FESOM2.1/core2/...                /albedo/pool/FESOM2/CORE2/nod2d.out\n",
      "...                                                      ...                                                ...\n",
      "unique     /pool/data/AWICM/FESOM2/FORCING/JRA55-do-v1.4....                                               <NA>\n",
      "unique     /pool/data/AWICM/FESOM2/FORCING/era5/forcing/i...                                               <NA>\n",
      "unique     /pool/data/AWICM/FESOM2/FORCING/JRA55-do-v1.4....                                               <NA>\n",
      "unique     /pool/data/AWICM/FESOM2/FORCING/JRA55-do-v1.4....                                               <NA>\n",
      "unique     /pool/data/AWICM/FESOM2/FORCING/JRA55-do-v1.3....                                               <NA>\n",
      "\n",
      "[2786 rows x 2 columns]\n"
     ]
    }
   ],
   "source": [
    "! ptool compare -o LA.csv --fullpath --ignore dist_ checksum_fesom2_levante.csv checksum_fesom2_albedo.csv"
   ]
  },
  {
   "cell_type": "code",
   "execution_count": 20,
   "id": "2109998c-8ece-4edd-8244-628ce56eb913",
   "metadata": {},
   "outputs": [
    {
     "name": "stdout",
     "output_type": "stream",
     "text": [
      "modified_latest_right,/pool/data/AWICM/FESOM2/MESHES_FESOM2.1/core2/pickle_mesh_py3_fesom2,/albedo/pool/FESOM2/CORE2/pickle_mesh_py3_fesom2\n",
      "modified_latest_right,/pool/data/AWICM/FESOM2/MESHES_FESOM2.1/core2/distances_126858_-180.0_180.0_-80.0_90.0_360_180_1,/albedo/pool/FESOM2/CORE2/distances_126858_-180.0_180.0_-80.0_90.0_360_180_1\n",
      "modified_latest_right,/pool/data/AWICM/FESOM2/MESHES_FESOM2.1/core2/inds_126858_-180.0_180.0_-80.0_90.0_360_180_1,/albedo/pool/FESOM2/CORE2/inds_126858_-180.0_180.0_-80.0_90.0_360_180_1\n",
      "modified_latest_right,/pool/data/AWICM/FESOM2/MESHES_FESOM2.1/core2/distances_126858_-180.0_180.0_-90.0_90.0_360_180_1,/albedo/pool/FESOM2/CORE2/distances_126858_-180.0_180.0_-90.0_90.0_360_180_1\n",
      "modified_latest_right,/pool/data/AWICM/FESOM2/MESHES_FESOM2.1/core2/inds_126858_-180.0_180.0_-90.0_90.0_360_180_1,/albedo/pool/FESOM2/CORE2/inds_126858_-180.0_180.0_-90.0_90.0_360_180_1\n",
      "modified_latest_right,/pool/data/AWICM/FESOM2/MESHES_FESOM2.1/core2/distances_126858_-180.0_180.0_-89.0_90.0_360_180_1,/albedo/pool/FESOM2/CORE2/distances_126858_-180.0_180.0_-89.0_90.0_360_180_1\n"
     ]
    }
   ],
   "source": [
    "! grep modified LA.csv"
   ]
  },
  {
   "cell_type": "code",
   "execution_count": 21,
   "id": "c7317fc9-f092-4f43-be3e-a3429369990b",
   "metadata": {},
   "outputs": [
    {
     "name": "stdout",
     "output_type": "stream",
     "text": [
      "renamed,/pool/data/AWICM/FESOM2/FORCING/CORE2/t_10.2008.nc.bak,/albedo/pool/FESOM2/forcing/CORE2/t_10.2007.nc\n",
      "renamed,/pool/data/AWICM/FESOM2/FORCING/CORE2/u_10.2009.nc,/albedo/pool/FESOM2/forcing/CORE2/u_10.2009.23OCT2012.nc\n",
      "renamed,/pool/data/AWICM/FESOM2/FORCING/CORE2/u_10.2008.nc.bak,/albedo/pool/FESOM2/forcing/CORE2/u_10.2007.nc\n",
      "renamed,/pool/data/AWICM/FESOM2/FORCING/CORE2/ncar_rad.2009.nc,/albedo/pool/FESOM2/forcing/CORE2/ncar_rad.2009.23OCT2012.nc\n",
      "renamed,/pool/data/AWICM/FESOM2/FORCING/CORE2/q_10.2008.nc.bak,/albedo/pool/FESOM2/forcing/CORE2/q_10.2007.nc\n",
      "renamed,/pool/data/AWICM/FESOM2/FORCING/CORE2/slp.2008.nc,/albedo/pool/FESOM2/forcing/CORE2/slp.2008.23OCT2012.nc\n",
      "renamed,/pool/data/AWICM/FESOM2/FORCING/CORE2/u_10.2008_ori.nc,/albedo/pool/FESOM2/forcing/CORE2/u_10.2008.23OCT2012.nc\n",
      "renamed,/pool/data/AWICM/FESOM2/FORCING/CORE2/q_10.2009.nc,/albedo/pool/FESOM2/forcing/CORE2/q_10.2009.23OCT2012.nc\n",
      "renamed,/pool/data/AWICM/FESOM2/FORCING/CORE2/t_10.2008_ori.nc,/albedo/pool/FESOM2/forcing/CORE2/t_10.2008.23OCT2012.nc\n"
     ]
    }
   ],
   "source": [
    "! grep renamed LA.csv"
   ]
  },
  {
   "cell_type": "code",
   "execution_count": 22,
   "id": "126840a4-4b43-4c62-a058-7276681805c3",
   "metadata": {},
   "outputs": [
    {
     "name": "stdout",
     "output_type": "stream",
     "text": [
      "flag,fpath_levante,fpath_albedo\n",
      "identical,/pool/data/AWICM/FESOM2/MESHES_FESOM2.1/core2/fesom.mesh.diag.nc,/albedo/pool/FESOM2/CORE2/fesom.mesh.diag.nc\n",
      "identical,/pool/data/AWICM/FESOM2/MESHES_FESOM2.1/core2/core2_griddes_elements.nc,/albedo/pool/FESOM2/CORE2/core2_griddes_elements.nc\n",
      "identical,/pool/data/AWICM/FESOM2/MESHES_FESOM2.1/core2/core2_griddes_nodes.nc,/albedo/pool/FESOM2/CORE2/core2_griddes_nodes.nc\n",
      "identical,/pool/data/AWICM/FESOM2/MESHES_FESOM2.1/core2/distances_126858_-180.0_180.0_60.0_90.0_360_180_1,/albedo/pool/FESOM2/CORE2/distances_126858_-180.0_180.0_60.0_90.0_360_180_1\n",
      "identical,/pool/data/AWICM/FESOM2/MESHES_FESOM2.1/core2/nod2d.out,/albedo/pool/FESOM2/CORE2/nod2d.out\n",
      "identical,/pool/data/AWICM/FESOM2/MESHES_FESOM2.1/core2/inds_126858_-180.0_180.0_60.0_90.0_360_180_1,/albedo/pool/FESOM2/CORE2/inds_126858_-180.0_180.0_60.0_90.0_360_180_1\n",
      "identical,/pool/data/AWICM/FESOM2/MESHES_FESOM2.1/core2/inds_126858_-180.0_180.0_-89.0_90.0_360_180_1,/albedo/pool/FESOM2/CORE2/inds_126858_-180.0_180.0_-89.0_90.0_360_180_1\n",
      "identical,/pool/data/AWICM/FESOM2/MESHES_FESOM2.1/core2/core2_griddes_elements_IFS.nc,/albedo/pool/FESOM2/CORE2/core2_griddes_elements_IFS.nc\n",
      "identical,/pool/data/AWICM/FESOM2/MESHES_FESOM2.1/core2/core2_griddes_nodes_IFS.nc,/albedo/pool/FESOM2/CORE2/core2_griddes_nodes_IFS.nc\n"
     ]
    }
   ],
   "source": [
    "! head LA.csv"
   ]
  },
  {
   "cell_type": "code",
   "execution_count": 23,
   "id": "751e1576-0e4b-4d16-a043-aa80233ce96c",
   "metadata": {},
   "outputs": [
    {
     "name": "stdout",
     "output_type": "stream",
     "text": [
      "Usage: ptool [OPTIONS] COMMAND [ARGS]...\n",
      "\n",
      "Options:\n",
      "  --help  Show this message and exit.\n",
      "\n",
      "Commands:\n",
      "  compare    Compare csv files containing checksum to infer the status of...\n",
      "  config     shows config information for a given site\n",
      "  runscript  makes run script for job submission\n",
      "  summary    Prints a short summary by analysing csv files.\n"
     ]
    }
   ],
   "source": [
    "! ptool --help"
   ]
  },
  {
   "cell_type": "code",
   "execution_count": 24,
   "id": "e6db8178-0309-499c-bb7a-d1e7078a337a",
   "metadata": {},
   "outputs": [
    {
     "name": "stdout",
     "output_type": "stream",
     "text": [
      "Usage: ptool config [OPTIONS] [SITE] [POOL]\n",
      "\n",
      "  shows config information for a given site\n",
      "\n",
      "Options:\n",
      "  --all   Gets the whole config in the absence of arguments.\n",
      "  --help  Show this message and exit.\n"
     ]
    }
   ],
   "source": [
    "! ptool config --help"
   ]
  },
  {
   "cell_type": "code",
   "execution_count": 25,
   "id": "f69863d2-9104-4a8b-b384-d454eccec311",
   "metadata": {},
   "outputs": [
    {
     "name": "stdout",
     "output_type": "stream",
     "text": [
      "albedo:\n",
      "  extras:\n",
      "  - module load analysis-toolbox/03.2023\n",
      "  pool:\n",
      "    fesom2:\n",
      "      ignore:\n",
      "      - .git\n",
      "      output: ~/checksum_fesom2_albedo.csv\n",
      "      path: /albedo/pool/FESOM2\n",
      "  slurm:\n",
      "    --mem: 100GB\n",
      "    --qos: 12h\n",
      "    -p: mpp\n",
      "    -t: '3:00:00'\n",
      "levante:\n",
      "  extras:\n",
      "  - module load python3/2023.01-gcc-11.2.0\n",
      "  pool:\n",
      "    fesom:\n",
      "      ignore:\n",
      "      - .git\n",
      "      output: ~/checksum_fesom1_levante.csv\n",
      "      path: /pool/data/AWICM/FESOM1\n",
      "    fesom2:\n",
      "      ignore:\n",
      "      - .git\n",
      "      - __pycache__\n",
      "      output: ~/checksum_fesom2_levante.csv\n",
      "      path: /pool/data/AWICM/FESOM2\n",
      "  slurm:\n",
      "    -A: ab0246\n",
      "    -p: compute\n",
      "    -t: '3:00:00'\n",
      "\n"
     ]
    }
   ],
   "source": [
    "! ptool config --all"
   ]
  },
  {
   "cell_type": "code",
   "execution_count": 26,
   "id": "cda57e0a-6431-43f3-b454-cd49b05054fb",
   "metadata": {},
   "outputs": [
    {
     "name": "stdout",
     "output_type": "stream",
     "text": [
      "levante:\n",
      "  extras:\n",
      "  - module load python3/2023.01-gcc-11.2.0\n",
      "  pool:\n",
      "    fesom2:\n",
      "      ignore:\n",
      "      - .git\n",
      "      - __pycache__\n",
      "      output: ~/checksum_fesom2_levante.csv\n",
      "      path: /pool/data/AWICM/FESOM2\n",
      "  slurm:\n",
      "    -A: ab0246\n",
      "    -p: compute\n",
      "    -t: '3:00:00'\n",
      "\n"
     ]
    }
   ],
   "source": [
    "! ptool config levante fesom2"
   ]
  },
  {
   "cell_type": "code",
   "execution_count": 27,
   "id": "5e38669c-b290-4042-9a14-fc0d6797c42d",
   "metadata": {},
   "outputs": [
    {
     "name": "stdout",
     "output_type": "stream",
     "text": [
      "Usage: ptool runscript [OPTIONS] {levante|albedo} {fesom2|fesom}\n",
      "\n",
      "  makes run script for job submission\n",
      "\n",
      "Options:\n",
      "  -f, --filename TEXT  name of the run script\n",
      "  --help               Show this message and exit.\n"
     ]
    }
   ],
   "source": [
    "! ptool runscript --help"
   ]
  },
  {
   "cell_type": "code",
   "execution_count": 28,
   "id": "277f9536-6420-4e9c-846c-fa9c985522c5",
   "metadata": {},
   "outputs": [
    {
     "name": "stdout",
     "output_type": "stream",
     "text": [
      "{'path': '/pool/data/AWICM/FESOM2', 'output': '~/checksum_fesom2_levante.csv', 'ignore': ['.git', '__pycache__']}\n",
      "created 'fesom2_levante.sh'.\n",
      "submit to slurm as 'sbatch fesom2_levante.sh' on levante\n"
     ]
    }
   ],
   "source": [
    "! ptool runscript levante fesom2"
   ]
  },
  {
   "cell_type": "code",
   "execution_count": 29,
   "id": "3a636fe8-51d2-4f8c-9bf7-9d656efd7262",
   "metadata": {},
   "outputs": [
    {
     "name": "stdout",
     "output_type": "stream",
     "text": [
      "#!/bin/bash\n",
      "\n",
      "#SBATCH -A ab0246\n",
      "#SBATCH -p compute\n",
      "#SBATCH -t 3:00:00\n",
      "\n",
      "module load python3/2023.01-gcc-11.2.0\n",
      "\n",
      "export POOL_SITE=levante\n",
      "export POOL_NAME=fesom2\n",
      "export POOL_CONF=ignore:NEWLINE- .gitNEWLINE- __pycache__NEWLINEoutput: ~/checksum_fesom2_levante.csvNEWLINEpath: /pool/data/AWICM/FESOM2NEWLINE\n",
      "\n",
      "python checksums.py\n"
     ]
    }
   ],
   "source": [
    "! cat fesom2_levante.sh"
   ]
  },
  {
   "cell_type": "markdown",
   "id": "6a8668f5-40ab-49e6-8820-38afe7dbd4fe",
   "metadata": {},
   "source": [
    "---\n",
    "\n",
    "copy the `fesom2_levante.sh` and `checksums.py` files to `levante` and submit the shell script to slurm. As the `checksums.py` can run independently (without requiring installing the `ptool` package), it becomes a bit easy to deploy and get the checksums."
   ]
  },
  {
   "cell_type": "markdown",
   "id": "92b6a779-236a-4ece-8606-049d1d51803d",
   "metadata": {},
   "source": []
  }
 ],
 "metadata": {
  "kernelspec": {
   "display_name": "ptool",
   "language": "python",
   "name": "ptool"
  },
  "language_info": {
   "codemirror_mode": {
    "name": "ipython",
    "version": 3
   },
   "file_extension": ".py",
   "mimetype": "text/x-python",
   "name": "python",
   "nbconvert_exporter": "python",
   "pygments_lexer": "ipython3",
   "version": "3.9.18"
  }
 },
 "nbformat": 4,
 "nbformat_minor": 5
}
